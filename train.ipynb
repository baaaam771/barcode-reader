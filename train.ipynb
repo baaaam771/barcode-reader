{
  "cells": [
    {
      "cell_type": "code",
      "execution_count": null,
      "metadata": {
        "colab": {
          "base_uri": "https://localhost:8080/"
        },
        "id": "ldd3LllD_YVF",
        "outputId": "7c4227bb-e9d6-4847-cfa8-c605ec6dbb70"
      },
      "outputs": [
        {
          "output_type": "stream",
          "name": "stdout",
          "text": [
            "Mounted at /content/drive\n"
          ]
        }
      ],
      "source": [
        "from google.colab import drive\n",
        "drive.mount('/content/drive')"
      ]
    },
    {
      "cell_type": "code",
      "source": [
        "%cd /content/drive/MyDrive\n",
        "!unzip Original.zip"
      ],
      "metadata": {
        "id": "ifB11bEFvBdW"
      },
      "execution_count": null,
      "outputs": []
    },
    {
      "cell_type": "code",
      "execution_count": null,
      "metadata": {
        "id": "Gm8c7TEl_rjm"
      },
      "outputs": [],
      "source": [
        "%cd /content/drive/MyDrive/\n",
        "!git clone https://github.com/ultralytics/yolov5 "
      ]
    },
    {
      "cell_type": "code",
      "execution_count": null,
      "metadata": {
        "id": "dxvsQ6glAETm"
      },
      "outputs": [],
      "source": [
        "%cd yolov5\n",
        "!pip install -r requirements.txt"
      ]
    },
    {
      "cell_type": "code",
      "execution_count": null,
      "metadata": {
        "id": "mZz4QW6BAX_B"
      },
      "outputs": [],
      "source": [
        "import torch\n",
        "torch.cuda.is_available()\n",
        "torch.cuda.get_device_name()"
      ]
    },
    {
      "cell_type": "code",
      "execution_count": null,
      "metadata": {
        "id": "URlQ0mk8FKC_"
      },
      "outputs": [],
      "source": [
        "%cd /content/drive/MyDrive/yolov5/\n",
        "!rm data/mydataset.yaml\n",
        "!echo 'train: /content/drive/MyDrive/Original/train' >> data/mydataset.yaml\n",
        "!echo 'val: /content/drive/MyDrive/Original/valid' >> data/mydataset.yaml\n",
        "!echo 'test: /content/drive/MyDrive/Original/test' >> data/mydataset.yaml\n",
        "!echo 'is_coco: False' >> data/mydataset.yaml\n",
        "!echo 'nc: 1' >> data/mydataset.yaml\n",
        "!echo \"names: ['barcode']\" >> data/mydataset.yaml"
      ]
    },
    {
      "cell_type": "code",
      "execution_count": null,
      "metadata": {
        "id": "0L3TIZZEVztL"
      },
      "outputs": [],
      "source": [
        "#https://github.com/ultralytics/yolov5/releases #Download pretrained model\n",
        "%cd /content/drive/MyDrive/yolov5/\n",
        "!wget https://github.com/ultralytics/yolov5/releases/download/v6.2/yolov5n.pt"
      ]
    },
    {
      "cell_type": "code",
      "execution_count": null,
      "metadata": {
        "id": "a5NeTrEIAeCE"
      },
      "outputs": [],
      "source": [
        "%cd /content/drive/MyDrive/yolov5/\n",
        "!python train.py --batch 16 --data mydataset.yaml --device 0 --cache --weights yolov5n.pt --epochs 300 --name barocde_detection\n",
        "\n",
        "# !python train.py --cache --resume"
      ]
    }
  ],
  "metadata": {
    "accelerator": "GPU",
    "colab": {
      "provenance": []
    },
    "gpuClass": "standard",
    "kernelspec": {
      "display_name": "Python 3",
      "name": "python3"
    },
    "language_info": {
      "name": "python"
    }
  },
  "nbformat": 4,
  "nbformat_minor": 0
}